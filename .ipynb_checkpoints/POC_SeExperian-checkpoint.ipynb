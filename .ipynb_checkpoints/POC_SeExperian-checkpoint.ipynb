{
 "cells": [
  {
   "cell_type": "code",
   "execution_count": 552,
   "metadata": {},
   "outputs": [],
   "source": [
    "import pyspark\n",
    "from pyspark.sql import SparkSession\n",
    "from pyspark.sql.functions import *"
   ]
  },
  {
   "cell_type": "code",
   "execution_count": 470,
   "metadata": {},
   "outputs": [],
   "source": [
    "# esta sessao vai servir para todos os exercicios resolvidos abaixo\n",
    "spark=SparkSession.builder.appName(\"experian\").getOrCreate()"
   ]
  },
  {
   "cell_type": "markdown",
   "metadata": {},
   "source": [
    "### 1. Ler CSV Viagens e gerar output Parquet"
   ]
  },
  {
   "cell_type": "code",
   "execution_count": 598,
   "metadata": {},
   "outputs": [],
   "source": [
    "df = spark.read.format('csv').options(header='true', inferSchema='true', delimiter = \";\").load('/viagens_csv/2020_Viagem.csv')"
   ]
  },
  {
   "cell_type": "code",
   "execution_count": 599,
   "metadata": {},
   "outputs": [
    {
     "name": "stdout",
     "output_type": "stream",
     "text": [
      "root\n",
      " |-- Identificador do processo de viagem: integer (nullable = true)\n",
      " |-- Situa��o: string (nullable = true)\n",
      " |-- C�digo do �rg�o superior: integer (nullable = true)\n",
      " |-- Nome do �rg�o superior: string (nullable = true)\n",
      " |-- C�digo �rg�o solicitante: integer (nullable = true)\n",
      " |-- Nome �rg�o solicitante: string (nullable = true)\n",
      " |-- CPF viajante: string (nullable = true)\n",
      " |-- Nome: string (nullable = true)\n",
      " |-- Cargo: string (nullable = true)\n",
      " |-- Per�odo - Data de in�cio: string (nullable = true)\n",
      " |-- Per�odo - Data de fim: string (nullable = true)\n",
      " |-- Destinos: string (nullable = true)\n",
      " |-- Motivo: string (nullable = true)\n",
      " |-- Valor di�rias: string (nullable = true)\n",
      " |-- Valor passagens: string (nullable = true)\n",
      " |-- Valor outros gastos: string (nullable = true)\n",
      "\n"
     ]
    }
   ],
   "source": [
    "df.printSchema()"
   ]
  },
  {
   "cell_type": "code",
   "execution_count": 600,
   "metadata": {},
   "outputs": [],
   "source": [
    "# Substituindo cada espaço em branco por underscore do nome de cada coluna \n",
    "# para salvar os dados no formato parquet\n",
    "\n",
    "for col in df.columns:\n",
    "    df = df.withColumnRenamed(col,col.replace(\" \", \"_\"))"
   ]
  },
  {
   "cell_type": "code",
   "execution_count": 601,
   "metadata": {},
   "outputs": [
    {
     "data": {
      "text/plain": [
       "['Identificador_do_processo_de_viagem',\n",
       " 'Situa��o',\n",
       " 'C�digo_do_�rg�o_superior',\n",
       " 'Nome_do_�rg�o_superior',\n",
       " 'C�digo_�rg�o_solicitante',\n",
       " 'Nome_�rg�o_solicitante',\n",
       " 'CPF_viajante',\n",
       " 'Nome',\n",
       " 'Cargo',\n",
       " 'Per�odo_-_Data_de_in�cio',\n",
       " 'Per�odo_-_Data_de_fim',\n",
       " 'Destinos',\n",
       " 'Motivo',\n",
       " 'Valor_di�rias',\n",
       " 'Valor_passagens',\n",
       " 'Valor_outros_gastos']"
      ]
     },
     "execution_count": 601,
     "metadata": {},
     "output_type": "execute_result"
    }
   ],
   "source": [
    "df.columns"
   ]
  },
  {
   "cell_type": "code",
   "execution_count": null,
   "metadata": {},
   "outputs": [],
   "source": [
    "\n",
    "df.write.parquet(\"/resultados/res_1/output.parquet\")"
   ]
  },
  {
   "cell_type": "markdown",
   "metadata": {},
   "source": [
    "### 2. Ler CSV Viagens e gerar output XML"
   ]
  },
  {
   "cell_type": "code",
   "execution_count": 568,
   "metadata": {},
   "outputs": [],
   "source": [
    "# Este exercicio foi feito no pyspark shell pois o jupyter-notebbok \n",
    "# aprensntou erros na importação de pacotes do spark-xml\n",
    "# Todo o processo se encontra na pastas /csv_to_xml deste repositorio"
   ]
  },
  {
   "cell_type": "markdown",
   "metadata": {},
   "source": [
    "### 3. Ler CSV Viagens, ordenar por nome do órgão superior e nome do órgão solicitante em ordem decrescente. Gerar JSON do resultado."
   ]
  },
  {
   "cell_type": "code",
   "execution_count": 602,
   "metadata": {},
   "outputs": [
    {
     "name": "stdout",
     "output_type": "stream",
     "text": [
      "root\n",
      " |-- Identificador do processo de viagem: integer (nullable = true)\n",
      " |-- Situa��o: string (nullable = true)\n",
      " |-- C�digo do �rg�o superior: integer (nullable = true)\n",
      " |-- Nome do �rg�o superior: string (nullable = true)\n",
      " |-- C�digo �rg�o solicitante: integer (nullable = true)\n",
      " |-- Nome �rg�o solicitante: string (nullable = true)\n",
      " |-- CPF viajante: string (nullable = true)\n",
      " |-- Nome: string (nullable = true)\n",
      " |-- Cargo: string (nullable = true)\n",
      " |-- Per�odo - Data de in�cio: string (nullable = true)\n",
      " |-- Per�odo - Data de fim: string (nullable = true)\n",
      " |-- Destinos: string (nullable = true)\n",
      " |-- Motivo: string (nullable = true)\n",
      " |-- Valor di�rias: string (nullable = true)\n",
      " |-- Valor passagens: string (nullable = true)\n",
      " |-- Valor outros gastos: string (nullable = true)\n",
      "\n"
     ]
    }
   ],
   "source": [
    "# lendo arquivo .csv\n",
    "df = spark.read.format('csv').options(header='true', inferSchema='true', delimiter = \";\").\\\n",
    "load('/viagens_csv/2020_Viagem.csv')\n",
    "df.printSchema()"
   ]
  },
  {
   "cell_type": "code",
   "execution_count": 606,
   "metadata": {},
   "outputs": [],
   "source": [
    "# ordenando decrescente as colunas em [cols]\n",
    "cols = ['Nome do �rg�o superior', 'Nome �rg�o solicitante']\n",
    "df3 = df.orderBy(cols, ascending=False)\n"
   ]
  },
  {
   "cell_type": "code",
   "execution_count": 131,
   "metadata": {},
   "outputs": [],
   "source": [
    "# salvando em 3 arquivos coalesce(3)\n",
    "df3.coalesce(3).write.json(\"/resultados/res_3/2020_Viagem.json\")"
   ]
  },
  {
   "cell_type": "markdown",
   "metadata": {},
   "source": [
    "### 4. Ler CSV Viagens e criar coluna \"Valor Total\" (Valor diária + Valor Passagens + Valor Outros)"
   ]
  },
  {
   "cell_type": "code",
   "execution_count": 610,
   "metadata": {},
   "outputs": [],
   "source": [
    "# lendo arquivo .csv\n",
    "df = spark.read.format('csv').options(header='true', inferSchema='true', delimiter = \";\") \\\n",
    ".load('/viagens_csv/2020_Viagem.csv')"
   ]
  },
  {
   "cell_type": "code",
   "execution_count": 611,
   "metadata": {},
   "outputs": [
    {
     "name": "stdout",
     "output_type": "stream",
     "text": [
      "root\n",
      " |-- Identificador do processo de viagem: integer (nullable = true)\n",
      " |-- Situa��o: string (nullable = true)\n",
      " |-- C�digo do �rg�o superior: integer (nullable = true)\n",
      " |-- Nome do �rg�o superior: string (nullable = true)\n",
      " |-- C�digo �rg�o solicitante: integer (nullable = true)\n",
      " |-- Nome �rg�o solicitante: string (nullable = true)\n",
      " |-- CPF viajante: string (nullable = true)\n",
      " |-- Nome: string (nullable = true)\n",
      " |-- Cargo: string (nullable = true)\n",
      " |-- Per�odo - Data de in�cio: string (nullable = true)\n",
      " |-- Per�odo - Data de fim: string (nullable = true)\n",
      " |-- Destinos: string (nullable = true)\n",
      " |-- Motivo: string (nullable = true)\n",
      " |-- Valor di�rias: string (nullable = true)\n",
      " |-- Valor passagens: string (nullable = true)\n",
      " |-- Valor outros gastos: string (nullable = true)\n",
      "\n"
     ]
    }
   ],
   "source": [
    "df.printSchema()"
   ]
  },
  {
   "cell_type": "code",
   "execution_count": 612,
   "metadata": {},
   "outputs": [],
   "source": [
    "# substituindo virgula por ponto nas colunas [cols] da tabela\n",
    "cols = ['Valor di�rias','Valor passagens', 'Valor outros gastos' ]\n",
    "for col_name in df.columns:    \n",
    "    if col_name in cols:\n",
    "        df = df.withColumn(col_name, regexp_replace(col_name, ',', '.').cast('float'))\n"
   ]
  },
  {
   "cell_type": "code",
   "execution_count": 613,
   "metadata": {},
   "outputs": [
    {
     "name": "stdout",
     "output_type": "stream",
     "text": [
      "root\n",
      " |-- Identificador do processo de viagem: integer (nullable = true)\n",
      " |-- Situa��o: string (nullable = true)\n",
      " |-- C�digo do �rg�o superior: integer (nullable = true)\n",
      " |-- Nome do �rg�o superior: string (nullable = true)\n",
      " |-- C�digo �rg�o solicitante: integer (nullable = true)\n",
      " |-- Nome �rg�o solicitante: string (nullable = true)\n",
      " |-- CPF viajante: string (nullable = true)\n",
      " |-- Nome: string (nullable = true)\n",
      " |-- Cargo: string (nullable = true)\n",
      " |-- Per�odo - Data de in�cio: string (nullable = true)\n",
      " |-- Per�odo - Data de fim: string (nullable = true)\n",
      " |-- Destinos: string (nullable = true)\n",
      " |-- Motivo: string (nullable = true)\n",
      " |-- Valor di�rias: float (nullable = true)\n",
      " |-- Valor passagens: float (nullable = true)\n",
      " |-- Valor outros gastos: float (nullable = true)\n",
      "\n",
      "+-------------+---------------+-------------------+\n",
      "|Valor di�rias|Valor passagens|Valor outros gastos|\n",
      "+-------------+---------------+-------------------+\n",
      "|     18549.02|        6903.68|             167.65|\n",
      "|        630.8|            0.0|                0.0|\n",
      "|          0.0|            0.0|                0.0|\n",
      "+-------------+---------------+-------------------+\n",
      "only showing top 3 rows\n",
      "\n"
     ]
    }
   ],
   "source": [
    "# visulizando o esquema da tabela e as 3 primeiras linhas das 3 ultimas colunas da tabela\n",
    "df.printSchema()\n",
    "df.select(df[-3],df[-2],df[-1]).show(3)"
   ]
  },
  {
   "cell_type": "code",
   "execution_count": 614,
   "metadata": {},
   "outputs": [],
   "source": [
    "#Coluna 'Valor Total' criada somamdo as tres ultimas colunas \n",
    "#da tabela (Valor diária + Valor Passagens + Valor Outros)\n",
    "df4 = df.withColumn('Valor Total', round((df[-3]+df[-2]+df[-1]),2))"
   ]
  },
  {
   "cell_type": "code",
   "execution_count": 617,
   "metadata": {
    "scrolled": true
   },
   "outputs": [
    {
     "name": "stdout",
     "output_type": "stream",
     "text": [
      "+-------------+---------------+-------------------+-----------+\n",
      "|Valor di�rias|Valor passagens|Valor outros gastos|Valor Total|\n",
      "+-------------+---------------+-------------------+-----------+\n",
      "|     18549.02|        6903.68|             167.65|   25620.35|\n",
      "|        630.8|            0.0|                0.0|      630.8|\n",
      "|          0.0|            0.0|                0.0|        0.0|\n",
      "|          0.0|         221.85|                0.0|     221.85|\n",
      "|          0.0|         964.91|                0.0|     964.91|\n",
      "|          0.0|        5224.87|                0.0|    5224.87|\n",
      "|          0.0|         442.23|                0.0|     442.23|\n",
      "|          0.0|        3474.44|            1243.13|    4717.57|\n",
      "|          0.0|         826.56|                0.0|     826.56|\n",
      "|          0.0|         1230.4|                0.0|     1230.4|\n",
      "+-------------+---------------+-------------------+-----------+\n",
      "only showing top 10 rows\n",
      "\n"
     ]
    }
   ],
   "source": [
    "# visulizando as 10 primeiras linhas das 4 ultimas colunas da tabela\n",
    "\n",
    "df4.select(df4[-4],df4[-3],df4[-2],df4[-1]).show(10)"
   ]
  },
  {
   "cell_type": "code",
   "execution_count": 618,
   "metadata": {},
   "outputs": [],
   "source": [
    "# padronizar eh legal ! :) substitui espaços em branco por underscore\n",
    "for col in df4.columns:\n",
    "    df4 = df4.withColumnRenamed(col,col.replace(\" \", \"_\"))\n",
    "    \n",
    "# salvando com estilo particionado\n",
    "df4.coalesce(1).write.csv('/resultados/res_4/inserindo_valor_total.csv',header=True)\n",
    "\n",
    "# salvando um arquivo estilo pandas\n",
    "df4.toPandas().to_csv('/resultados/res_4/inserindo_valor_total_pandas.csv',index=False)"
   ]
  },
  {
   "cell_type": "markdown",
   "metadata": {},
   "source": [
    "### 5. Ler CSV e apresentar o total gasto por orgao solicitante onde a Situação for igual a Realizada (utilizar a coluna valor total que foi criada no item 4)"
   ]
  },
  {
   "cell_type": "code",
   "execution_count": 620,
   "metadata": {},
   "outputs": [
    {
     "name": "stdout",
     "output_type": "stream",
     "text": [
      "root\n",
      " |-- Identificador do processo de viagem: integer (nullable = true)\n",
      " |-- Situa��o: string (nullable = true)\n",
      " |-- C�digo do �rg�o superior: integer (nullable = true)\n",
      " |-- Nome do �rg�o superior: string (nullable = true)\n",
      " |-- C�digo �rg�o solicitante: integer (nullable = true)\n",
      " |-- Nome �rg�o solicitante: string (nullable = true)\n",
      " |-- CPF viajante: string (nullable = true)\n",
      " |-- Nome: string (nullable = true)\n",
      " |-- Cargo: string (nullable = true)\n",
      " |-- Per�odo - Data de in�cio: string (nullable = true)\n",
      " |-- Per�odo - Data de fim: string (nullable = true)\n",
      " |-- Destinos: string (nullable = true)\n",
      " |-- Motivo: string (nullable = true)\n",
      " |-- Valor di�rias: string (nullable = true)\n",
      " |-- Valor passagens: string (nullable = true)\n",
      " |-- Valor outros gastos: string (nullable = true)\n",
      "\n"
     ]
    }
   ],
   "source": [
    "df = spark.read.format('csv').options(header='true', inferSchema='true', delimiter = \";\") \\\n",
    ".load('/viagens_csv/2020_Viagem.csv')\n",
    "\n",
    "df.printSchema()"
   ]
  },
  {
   "cell_type": "code",
   "execution_count": 621,
   "metadata": {},
   "outputs": [],
   "source": [
    "df = df.withColumnRenamed('Situa��o','Situacao')\\\n",
    "        .withColumnRenamed('C�digo do �rg�o superior','Codigo_do_orgao_superior')\\\n",
    "        .withColumnRenamed('Nome do �rg�o superior','Nome_do_orgao_superior')\\\n",
    "        .withColumnRenamed('C�digo �rg�o solicitante','Codigo_orgao_solicitante')\\\n",
    "        .withColumnRenamed('Nome �rg�o solicitante','Nome_orgao_solicitante')\\\n",
    "        .withColumnRenamed('Per�odo - Data de in�cio','Periodo_-_Data_de_inicio')\\\n",
    "        .withColumnRenamed('Per�odo - Data de fim','Periodo_-_Data_de_fim')\\\n",
    "        .withColumnRenamed('Valor di�rias','Valor_diarias')"
   ]
  },
  {
   "cell_type": "code",
   "execution_count": 622,
   "metadata": {},
   "outputs": [],
   "source": [
    "cols = ['Valor_diarias','Valor passagens', 'Valor outros gastos' ]\n",
    "for col_name in df.columns:    \n",
    "    if col_name in cols:\n",
    "        df = df.withColumn(col_name, regexp_replace(col_name, ',', '.').cast('float'))\n",
    "df = df.withColumn('Valor Total', round((df[-3]+df[-2]+df[-1]),2))\n",
    "# df.select(df[-4],df[-3],df[-2],df[-1]).show(3)\n"
   ]
  },
  {
   "cell_type": "code",
   "execution_count": 623,
   "metadata": {},
   "outputs": [
    {
     "name": "stdout",
     "output_type": "stream",
     "text": [
      "root\n",
      " |-- Identificador_do_processo_de_viagem: integer (nullable = true)\n",
      " |-- Situacao: string (nullable = true)\n",
      " |-- Codigo_do_orgao_superior: integer (nullable = true)\n",
      " |-- Nome_do_orgao_superior: string (nullable = true)\n",
      " |-- Codigo_orgao_solicitante: integer (nullable = true)\n",
      " |-- Nome_orgao_solicitante: string (nullable = true)\n",
      " |-- CPF_viajante: string (nullable = true)\n",
      " |-- Nome: string (nullable = true)\n",
      " |-- Cargo: string (nullable = true)\n",
      " |-- Periodo_-_Data_de_inicio: string (nullable = true)\n",
      " |-- Periodo_-_Data_de_fim: string (nullable = true)\n",
      " |-- Destinos: string (nullable = true)\n",
      " |-- Motivo: string (nullable = true)\n",
      " |-- Valor_diarias: float (nullable = true)\n",
      " |-- Valor_passagens: float (nullable = true)\n",
      " |-- Valor_outros_gastos: float (nullable = true)\n",
      " |-- Valor_Total: float (nullable = true)\n",
      "\n"
     ]
    }
   ],
   "source": [
    "for col in df.columns:\n",
    "    df = df.withColumnRenamed(col,col.replace(\" \", \"_\"))\n",
    "df.printSchema()"
   ]
  },
  {
   "cell_type": "code",
   "execution_count": 625,
   "metadata": {
    "scrolled": false
   },
   "outputs": [
    {
     "name": "stdout",
     "output_type": "stream",
     "text": [
      "+------------------------+-------------+\n",
      "|Codigo_orgao_solicitante|  Valor_Total|\n",
      "+------------------------+-------------+\n",
      "|                      -1|1.093839526E7|\n",
      "|                   20000|   2213453.27|\n",
      "|                   20202|     69657.78|\n",
      "|                   20203|     66003.76|\n",
      "|                   20301|    134805.26|\n",
      "|                   20402|    179919.72|\n",
      "|                   20403|      6350.92|\n",
      "|                   20404|      4185.87|\n",
      "|                   20408|      7014.75|\n",
      "|                   20411|     92416.98|\n",
      "+------------------------+-------------+\n",
      "only showing top 10 rows\n",
      "\n"
     ]
    }
   ],
   "source": [
    "# substituindo valores Nulls por 'fill value' quando a coluna for de string ou por zero qdo for de float\n",
    "resultDF = df.na.fill('fill value').na.fill(0).filter(df.Situacao == \"Realizada\")\\\n",
    "  .select('Codigo_orgao_solicitante', 'Valor_Total')\\\n",
    "  .groupBy('Codigo_orgao_solicitante')\\\n",
    "  .agg({'Valor_Total' : 'sum'}).withColumnRenamed('sum(Valor_Total)','Valor_Total')\\\n",
    "  .orderBy('Codigo_orgao_solicitante', ascending=True)\n",
    "# apresentando o total gasto por orgao solicitante onde a Situação for igual a Realizada\n",
    "df5 = resultDF.withColumn('Valor_Total', round(resultDF['Valor_Total'],2))\n",
    "df5.show(10)"
   ]
  },
  {
   "cell_type": "code",
   "execution_count": 596,
   "metadata": {},
   "outputs": [],
   "source": [
    "# este bloco mostra a visualização dos dados como no bloco anterior \n",
    "# somente acrescentando o campo 'Nome do Orgao superior'\n",
    "# resultDF = df.na.fill('fill value').na.fill(0).filter(df.Situacao == \"Realizada\")\\\n",
    "#   .select('Codigo_orgao_solicitante', 'Nome_orgao_solicitante', 'Valor_Total')\\\n",
    "#   .groupBy('Codigo_orgao_solicitante', 'Nome_orgao_solicitante')\\\n",
    "#   .agg({'Valor_Total' : 'sum'}).withColumnRenamed('sum(Valor_Total)','Valor_Total')\\\n",
    "#   .orderBy('Codigo_orgao_solicitante', ascending=True)\n",
    "# # apresentando o total gasto por orgao solicitante onde a Situação for igual a Realizada\n",
    "# result5DF = resultDF.withColumn('Valor_Total', round(resultDF['Valor_Total'],2))\n",
    "# result5DF.show(200)"
   ]
  },
  {
   "cell_type": "code",
   "execution_count": 626,
   "metadata": {},
   "outputs": [],
   "source": [
    "# salvando um arquivo estilo pandas\n",
    "df5.toPandas().to_csv('/resultados/res_5/valor_total_org_solicitante.csv',index=False)"
   ]
  },
  {
   "cell_type": "markdown",
   "metadata": {},
   "source": [
    "### 6. Ler CSV de viagens e de trechos. Selecionar os campos Id do processo de viagem, situação, nome do órgão superior, sequência trecho, destino - cidade. Salvar um JSON de outpout"
   ]
  },
  {
   "cell_type": "code",
   "execution_count": 538,
   "metadata": {},
   "outputs": [],
   "source": [
    "df1 = spark.read.format('csv').options(header='true', inferSchema='true', delimiter = \";\") \\\n",
    ".load('/viagens_csv/2020_Viagem.csv')\n",
    "for col in df1.columns:\n",
    "    df1 = df1.withColumnRenamed(col,col.replace(\" \", \"_\"))\n",
    "\n",
    "\n",
    "df2 = spark.read.format('csv').options(header='true', inferSchema='true', delimiter = \";\") \\\n",
    ".load('/viagens_csv/2020_Trecho.csv')\n",
    "for col in df2.columns:\n",
    "    df2 = df2.withColumnRenamed(col,col.replace(\" \", \"_\"))"
   ]
  },
  {
   "cell_type": "code",
   "execution_count": 539,
   "metadata": {},
   "outputs": [
    {
     "name": "stdout",
     "output_type": "stream",
     "text": [
      "root\n",
      " |-- Identificador_do_processo_de_viagem: integer (nullable = true)\n",
      " |-- Situa��o: string (nullable = true)\n",
      " |-- C�digo_do_�rg�o_superior: integer (nullable = true)\n",
      " |-- Nome_do_�rg�o_superior: string (nullable = true)\n",
      " |-- C�digo_�rg�o_solicitante: integer (nullable = true)\n",
      " |-- Nome_�rg�o_solicitante: string (nullable = true)\n",
      " |-- CPF_viajante: string (nullable = true)\n",
      " |-- Nome: string (nullable = true)\n",
      " |-- Cargo: string (nullable = true)\n",
      " |-- Per�odo_-_Data_de_in�cio: string (nullable = true)\n",
      " |-- Per�odo_-_Data_de_fim: string (nullable = true)\n",
      " |-- Destinos: string (nullable = true)\n",
      " |-- Motivo: string (nullable = true)\n",
      " |-- Valor_di�rias: string (nullable = true)\n",
      " |-- Valor_passagens: string (nullable = true)\n",
      " |-- Valor_outros_gastos: string (nullable = true)\n",
      "\n",
      "root\n",
      " |-- Identificador_do_processo_de_viagem_: integer (nullable = true)\n",
      " |-- Sequ�ncia_Trecho: integer (nullable = true)\n",
      " |-- Origem_-_Data: string (nullable = true)\n",
      " |-- Origem_-_Pa�s: string (nullable = true)\n",
      " |-- Origem_-_UF: string (nullable = true)\n",
      " |-- Origem_-_Cidade: string (nullable = true)\n",
      " |-- Destino_-_Data: string (nullable = true)\n",
      " |-- Destino_-_Pa�s: string (nullable = true)\n",
      " |-- Destino_-_UF: string (nullable = true)\n",
      " |-- Destino_-_Cidade: string (nullable = true)\n",
      " |-- Meio_de_transporte: string (nullable = true)\n",
      " |-- N�mero_Di�rias: string (nullable = true)\n",
      " |-- Missao?: string (nullable = true)\n",
      "\n"
     ]
    }
   ],
   "source": [
    "df1.printSchema()\n",
    "\n",
    "df2.printSchema()"
   ]
  },
  {
   "cell_type": "code",
   "execution_count": 627,
   "metadata": {},
   "outputs": [
    {
     "name": "stdout",
     "output_type": "stream",
     "text": [
      "+------------------------+-------------+----------------------+----------------+--------------+\n",
      "|ID_Do_Processo_De_Viagem|     Situacao|Nome_do_Orgao_superior|Sequencia_Trecho|Destino_Cidade|\n",
      "+------------------------+-------------+----------------------+----------------+--------------+\n",
      "|                16415470|    Realizada|  Minist�rio da Edu...|               4|       Niter�i|\n",
      "|                16415470|    Realizada|  Minist�rio da Edu...|               2|        Lisboa|\n",
      "|                16415470|    Realizada|  Minist�rio da Edu...|               3|Rio de Janeiro|\n",
      "|                16415470|    Realizada|  Minist�rio da Edu...|               1|Rio de Janeiro|\n",
      "|                16441929|    Realizada|  Minist�rio da Defesa|               1|Rio de Janeiro|\n",
      "|                16460934|    Realizada|  Minist�rio da Edu...|               2| Florian�polis|\n",
      "|                16460934|    Realizada|  Minist�rio da Edu...|               1|        Faenza|\n",
      "|                16465411|N�o realizada|  Minist�rio da Defesa|               1|      Bras�lia|\n",
      "|                16466765|    Realizada|  Minist�rio da Defesa|               1|Rio de Janeiro|\n",
      "|                16466765|    Realizada|  Minist�rio da Defesa|               3|      Bras�lia|\n",
      "+------------------------+-------------+----------------------+----------------+--------------+\n",
      "only showing top 10 rows\n",
      "\n"
     ]
    }
   ],
   "source": [
    "df6 = df1.join(df2, df1.Identificador_do_processo_de_viagem  == df2.Identificador_do_processo_de_viagem_ )\\\n",
    "   .select(df1['Identificador_do_processo_de_viagem'].alias('ID_Do_Processo_De_Viagem'), \\\n",
    "           df1['Situa��o'].alias('Situacao'),\\\n",
    "           df1['Nome_do_�rg�o_superior'].alias('Nome_do_Orgao_superior'),\\\n",
    "           df2['Sequ�ncia_Trecho'].alias('Sequencia_Trecho'),\\\n",
    "           df2['Destino_-_Cidade'].alias('Destino_Cidade'))\n",
    "df6.show(10)"
   ]
  },
  {
   "cell_type": "code",
   "execution_count": 567,
   "metadata": {},
   "outputs": [],
   "source": [
    "# salvando em 3 arquivos coalesce(3)\n",
    "df6.coalesce(3).write.json(\"/resultados/res_6/Viagens_Trechos.json\")"
   ]
  }
 ],
 "metadata": {
  "kernelspec": {
   "display_name": "Python 3",
   "language": "python",
   "name": "python3"
  },
  "language_info": {
   "codemirror_mode": {
    "name": "ipython",
    "version": 3
   },
   "file_extension": ".py",
   "mimetype": "text/x-python",
   "name": "python",
   "nbconvert_exporter": "python",
   "pygments_lexer": "ipython3",
   "version": "3.6.4"
  }
 },
 "nbformat": 4,
 "nbformat_minor": 2
}
